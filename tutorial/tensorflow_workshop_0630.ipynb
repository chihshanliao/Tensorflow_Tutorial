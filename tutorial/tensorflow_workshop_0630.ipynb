{
  "nbformat": 4,
  "nbformat_minor": 0,
  "metadata": {
    "colab": {
      "name": "tensorflow_workshop_0630.ipynb",
      "version": "0.3.2",
      "provenance": []
    },
    "language_info": {
      "codemirror_mode": {
        "name": "ipython",
        "version": 3
      },
      "file_extension": ".py",
      "mimetype": "text/x-python",
      "name": "python",
      "nbconvert_exporter": "python",
      "pygments_lexer": "ipython3",
      "version": "3.6.5"
    },
    "kernelspec": {
      "name": "python3",
      "display_name": "Python 3"
    },
    "accelerator": "GPU"
  },
  "cells": [
    {
      "cell_type": "markdown",
      "metadata": {
        "id": "Q3p7cGF0M6W9",
        "colab_type": "text"
      },
      "source": [
        "# Tensorflow Workshop (2019/6/30)"
      ]
    },
    {
      "cell_type": "code",
      "metadata": {
        "id": "StsPx0V7M6XF",
        "colab_type": "code",
        "colab": {}
      },
      "source": [
        "import tensorflow as tf\n",
        "from tensorflow import keras\n",
        "import numpy as np\n",
        "import matplotlib.pyplot as plt"
      ],
      "execution_count": 0,
      "outputs": []
    },
    {
      "cell_type": "markdown",
      "metadata": {
        "id": "n_7X7DlAM6XS",
        "colab_type": "text"
      },
      "source": [
        "## python tutorial\n",
        "\n",
        "參考：https://www.w3schools.com/python/python_lists.asp\n",
        "\n",
        "* print: \n",
        "    * `print('Hello!')`\n",
        "    * `print('Art: %5d, Price: %8.2f' % (453, 59.058))`\n",
        "    * `print('Art: {0:5d}, Price: {1:8.2f}'.format(453, 59.058))`\n",
        "    * 參考：https://www.python-course.eu/python3_formatted_output.php\n",
        "* list\n",
        "* tuples\n",
        "* dictionaries\n",
        "* if ... elif ... else\n",
        "* while loop\n",
        "* for loop\n",
        "* function\n",
        "* class\n",
        "\n",
        "\n",
        "### Mission\n",
        "\n",
        "假設今天有一燈泡組，第一顆燈泡會接上電源，然後第一顆燈泡（序號為0）接上第二顆燈泡（序號為1），第二顆燈泡（序號為1）接上第三顆燈泡（序號為2），依序連接，總共有5顆燈泡。另外，每顆燈泡都有一個開關，開關打開代表導通，燈泡就有機會亮，但還需要兩個額外條件：第一，這顆燈泡已接上電源，第二，前一顆燈泡亮了（已導通），所以如果依照順序 `[2, 0, 3, 1, 4]` 的開啟燈泡，則燈泡組會有 `3` 階段的亮法，如下所示：\n",
        "\n",
        "```\n",
        "switch on: 2\n",
        "bulbs: _ _ _ _ _\n",
        "switch on: 0\n",
        "bulbs: * _ _ _ _\n",
        "switch on: 3\n",
        "bulbs: * _ _ _ _\n",
        "switch on: 1\n",
        "bulbs: * * * * _\n",
        "switch on: 4\n",
        "bulbs: * * * * *\n",
        "```\n",
        "\n",
        "請大家幫我利用以下的code把這個demo實作出來。"
      ]
    },
    {
      "cell_type": "code",
      "metadata": {
        "id": "4E1_qmu8M6XW",
        "colab_type": "code",
        "colab": {
          "base_uri": "https://localhost:8080/",
          "height": 190
        },
        "outputId": "76f267d5-707a-40de-bd5c-469c53a199dc"
      },
      "source": [
        "class Bulb:\n",
        "    def __init__(self, name):\n",
        "        self.name = name\n",
        "\n",
        "        self._connect_source = False\n",
        "        self._switch_on = False\n",
        "        self._prev = None\n",
        "        self._next = None\n",
        "    \n",
        "    def append(self, next_bulb):\n",
        "        self._next = next_bulb\n",
        "        next_bulb._prev = self\n",
        "    \n",
        "    def connect_source(self):\n",
        "        self._connect_source = True\n",
        "\n",
        "    def switch_on(self):\n",
        "        self._switch_on = True\n",
        "    \n",
        "    def is_light(self):\n",
        "        # 幫我在這邊實作出兩種情形要回傳True（亮）\n",
        "        # 第一種情況是，燈泡有接電源且開關打開\n",
        "        # 第二種情況是，前面接的燈泡有亮且開關打開\n",
        "        # hint: 記得檢查上一個燈泡是否存在\n",
        "        # answer here\n",
        "        if self._switch_on :\n",
        "            if self._connect_source:\n",
        "                return True\n",
        "            elif self._prev and self._prev.is_light():\n",
        "                return True\n",
        "        return False\n",
        "        \n",
        "\n",
        "    \n",
        "def demo(order):\n",
        "    N = 5\n",
        "    bulbs = [Bulb(i) for i in range(N)]\n",
        "\n",
        "    # 幫我在這邊讓第一顆燈泡接上電源，並且串接各個燈泡成為燈泡組\n",
        "    # answer here\n",
        "    bulbs[0].connect_source()\n",
        "    for i in range(0, N-1):\n",
        "      bulbs[i].append(bulbs[i+1])\n",
        "      \n",
        "    for j in order:\n",
        "        print('switch on: {0}'.format(j))\n",
        "        bulbs[j].switch_on()\n",
        "        light_status = ['*' if bulbs[i].is_light() else '_' for i in range(N)]\n",
        "        print('bulbs: {0}'.format(' '.join(light_status)))\n",
        "\n",
        "\n",
        "demo([2, 0, 3, 1, 4])\n",
        "\n",
        "### Correct Output\n",
        "# switch on: 2\n",
        "# bulbs: _ _ _ _ _\n",
        "# switch on: 0\n",
        "# bulbs: * _ _ _ _\n",
        "# switch on: 3\n",
        "# bulbs: * _ _ _ _\n",
        "# switch on: 1\n",
        "# bulbs: * * * * _\n",
        "# switch on: 4"
      ],
      "execution_count": 7,
      "outputs": [
        {
          "output_type": "stream",
          "text": [
            "switch on: 2\n",
            "bulbs: _ _ _ _ _\n",
            "switch on: 0\n",
            "bulbs: * _ _ _ _\n",
            "switch on: 3\n",
            "bulbs: * _ _ _ _\n",
            "switch on: 1\n",
            "bulbs: * * * * _\n",
            "switch on: 4\n",
            "bulbs: * * * * *\n"
          ],
          "name": "stdout"
        }
      ]
    },
    {
      "cell_type": "markdown",
      "metadata": {
        "id": "zxqHQUCrM6Xf",
        "colab_type": "text"
      },
      "source": [
        "## Numpy tutorial\n",
        "\n",
        "參考：\n",
        "https://www.ycc.idv.tw/python-play-with-data_2.html  \n",
        "https://www.ycc.idv.tw/python-play-with-data_3.html\n",
        "\n",
        "\n",
        "### ndarray\n",
        "Numpy最重要的元素就是ndarray，它是N-Dimensional Array的縮寫，在Numpy裡，dimesions被稱為axes，而axes的數量被稱為rank，axes是一個重要的概念，了解這個概念基本上就把Numpy搞懂一半以上了。\n",
        "\n",
        "先來建立一個簡單的ndarray"
      ]
    },
    {
      "cell_type": "code",
      "metadata": {
        "id": "xej1RD0zM6Xi",
        "colab_type": "code",
        "colab": {
          "base_uri": "https://localhost:8080/",
          "height": 103
        },
        "outputId": "167a1cab-bd3a-4eed-aaab-b833ee1153ed"
      },
      "source": [
        "A = np.array(\n",
        "    [\n",
        "        [\n",
        "            [1,2,3], [4,5,6]\n",
        "        ],\n",
        "        [\n",
        "            [7,8,9], [10,11,12]\n",
        "        ],\n",
        "    ]\n",
        ")\n",
        "A"
      ],
      "execution_count": 6,
      "outputs": [
        {
          "output_type": "execute_result",
          "data": {
            "text/plain": [
              "array([[[ 1,  2,  3],\n",
              "        [ 4,  5,  6]],\n",
              "\n",
              "       [[ 7,  8,  9],\n",
              "        [10, 11, 12]]])"
            ]
          },
          "metadata": {
            "tags": []
          },
          "execution_count": 6
        }
      ]
    },
    {
      "cell_type": "code",
      "metadata": {
        "id": "Khj1JaX4M6Xp",
        "colab_type": "code",
        "colab": {
          "base_uri": "https://localhost:8080/",
          "height": 34
        },
        "outputId": "e738fc5b-052f-4a38-8030-e9b554eae601"
      },
      "source": [
        "A.shape"
      ],
      "execution_count": 7,
      "outputs": [
        {
          "output_type": "execute_result",
          "data": {
            "text/plain": [
              "(2, 2, 3)"
            ]
          },
          "metadata": {
            "tags": []
          },
          "execution_count": 7
        }
      ]
    },
    {
      "cell_type": "markdown",
      "metadata": {
        "id": "wDUL34EtM6Xu",
        "colab_type": "text"
      },
      "source": [
        "下面這張圖可以幫助大家理解\n",
        "![](http://www.ycc.idv.tw/media/PlayDataWithPython/ndarray_axis.png)"
      ]
    },
    {
      "cell_type": "code",
      "metadata": {
        "id": "cBSf4ejXM6Xw",
        "colab_type": "code",
        "colab": {
          "base_uri": "https://localhost:8080/",
          "height": 34
        },
        "outputId": "aea3c71f-a06d-4396-b6e4-e6f28b1cacea"
      },
      "source": [
        "np.sum(A, axis=None)  # axis為None的時候則加總所有元素"
      ],
      "execution_count": 8,
      "outputs": [
        {
          "output_type": "execute_result",
          "data": {
            "text/plain": [
              "78"
            ]
          },
          "metadata": {
            "tags": []
          },
          "execution_count": 8
        }
      ]
    },
    {
      "cell_type": "code",
      "metadata": {
        "id": "g3kcF2NAM6X0",
        "colab_type": "code",
        "colab": {
          "base_uri": "https://localhost:8080/",
          "height": 51
        },
        "outputId": "62cf61a5-6fe0-4c2e-b7b7-3aefe3f50bde"
      },
      "source": [
        "np.sum(A, axis=0)"
      ],
      "execution_count": 9,
      "outputs": [
        {
          "output_type": "execute_result",
          "data": {
            "text/plain": [
              "array([[ 8, 10, 12],\n",
              "       [14, 16, 18]])"
            ]
          },
          "metadata": {
            "tags": []
          },
          "execution_count": 9
        }
      ]
    },
    {
      "cell_type": "code",
      "metadata": {
        "id": "N15Vi4m-M6X4",
        "colab_type": "code",
        "colab": {
          "base_uri": "https://localhost:8080/",
          "height": 51
        },
        "outputId": "433a2f52-a19f-4f61-eb84-dc4cf4f86b11"
      },
      "source": [
        "np.sum(A, axis=1)"
      ],
      "execution_count": 10,
      "outputs": [
        {
          "output_type": "execute_result",
          "data": {
            "text/plain": [
              "array([[ 5,  7,  9],\n",
              "       [17, 19, 21]])"
            ]
          },
          "metadata": {
            "tags": []
          },
          "execution_count": 10
        }
      ]
    },
    {
      "cell_type": "code",
      "metadata": {
        "id": "Jim94levM6X8",
        "colab_type": "code",
        "colab": {
          "base_uri": "https://localhost:8080/",
          "height": 51
        },
        "outputId": "d7a21bc5-c4fa-4548-a09a-4c117c3d505c"
      },
      "source": [
        "np.sum(A, axis=2)"
      ],
      "execution_count": 11,
      "outputs": [
        {
          "output_type": "execute_result",
          "data": {
            "text/plain": [
              "array([[ 6, 15],\n",
              "       [24, 33]])"
            ]
          },
          "metadata": {
            "tags": []
          },
          "execution_count": 11
        }
      ]
    },
    {
      "cell_type": "markdown",
      "metadata": {
        "id": "7UIzwGT7M6YA",
        "colab_type": "text"
      },
      "source": [
        "### reshape"
      ]
    },
    {
      "cell_type": "code",
      "metadata": {
        "id": "HlR9jmuAM6YD",
        "colab_type": "code",
        "colab": {
          "base_uri": "https://localhost:8080/",
          "height": 34
        },
        "outputId": "f0e964a5-1e35-4699-c649-18f37692636d"
      },
      "source": [
        "B = np.array([[1,2],[3,4],[5,6]])\n",
        "B.shape"
      ],
      "execution_count": 12,
      "outputs": [
        {
          "output_type": "execute_result",
          "data": {
            "text/plain": [
              "(3, 2)"
            ]
          },
          "metadata": {
            "tags": []
          },
          "execution_count": 12
        }
      ]
    },
    {
      "cell_type": "markdown",
      "metadata": {
        "id": "s5utHdKkM6YH",
        "colab_type": "text"
      },
      "source": [
        "`(3, 2)`這樣的shape我們就一點都不意外了，axis=0有三個元素，而axis=1有兩個元素。shape可以直接改，如果數量恰當的話就會自動重組。"
      ]
    },
    {
      "cell_type": "code",
      "metadata": {
        "id": "t8guNCe4M6YO",
        "colab_type": "code",
        "colab": {
          "base_uri": "https://localhost:8080/",
          "height": 34
        },
        "outputId": "b8f4d971-a642-4e93-f579-df16f6a1a8b9"
      },
      "source": [
        "B.shape = (2,1,3)\n",
        "B.shape"
      ],
      "execution_count": 13,
      "outputs": [
        {
          "output_type": "execute_result",
          "data": {
            "text/plain": [
              "(2, 1, 3)"
            ]
          },
          "metadata": {
            "tags": []
          },
          "execution_count": 13
        }
      ]
    },
    {
      "cell_type": "code",
      "metadata": {
        "id": "kxByGKesM6YS",
        "colab_type": "code",
        "colab": {
          "base_uri": "https://localhost:8080/",
          "height": 69
        },
        "outputId": "9db7fcf4-1297-4127-fb50-3e90bcde0b61"
      },
      "source": [
        "B"
      ],
      "execution_count": 14,
      "outputs": [
        {
          "output_type": "execute_result",
          "data": {
            "text/plain": [
              "array([[[1, 2, 3]],\n",
              "\n",
              "       [[4, 5, 6]]])"
            ]
          },
          "metadata": {
            "tags": []
          },
          "execution_count": 14
        }
      ]
    },
    {
      "cell_type": "markdown",
      "metadata": {
        "id": "-2r3Kb-jM6YW",
        "colab_type": "text"
      },
      "source": [
        "axis=0有兩個元素，axis=1有一個元素，axis=2有三個元素。\n",
        "\n",
        "同樣的概念也可以用在取出單一元素上。"
      ]
    },
    {
      "cell_type": "code",
      "metadata": {
        "id": "JA__s9jyM6YY",
        "colab_type": "code",
        "colab": {
          "base_uri": "https://localhost:8080/",
          "height": 34
        },
        "outputId": "2d1723f8-41be-4427-d930-2e0579331a30"
      },
      "source": [
        "B[1, 0, 1]"
      ],
      "execution_count": 15,
      "outputs": [
        {
          "output_type": "execute_result",
          "data": {
            "text/plain": [
              "5"
            ]
          },
          "metadata": {
            "tags": []
          },
          "execution_count": 15
        }
      ]
    },
    {
      "cell_type": "code",
      "metadata": {
        "id": "qehBRx-2M6Yd",
        "colab_type": "code",
        "colab": {
          "base_uri": "https://localhost:8080/",
          "height": 34
        },
        "outputId": "11bdfede-e6f1-4068-d28c-0ac04271f690"
      },
      "source": [
        "B[0, 0, 2]"
      ],
      "execution_count": 16,
      "outputs": [
        {
          "output_type": "execute_result",
          "data": {
            "text/plain": [
              "3"
            ]
          },
          "metadata": {
            "tags": []
          },
          "execution_count": 16
        }
      ]
    },
    {
      "cell_type": "markdown",
      "metadata": {
        "id": "hRAwd8RWM6Yh",
        "colab_type": "text"
      },
      "source": [
        "在axis=0上選第二個元素(1)，在axis=1上選第一個元素(0)，在axis=2上選第二個元素(1)，所以選出來的元素就是5啦！\n",
        "\n",
        "### dtype\n",
        "\n",
        "ndarray有其資料型別，這個資料型別就稱為dtype，有哪些內建的資料型別呢？我們可以透過numpy的內建資料來查看。"
      ]
    },
    {
      "cell_type": "code",
      "metadata": {
        "id": "WbmwjlBBM6Yi",
        "colab_type": "code",
        "colab": {}
      },
      "source": [
        "np.sctypes"
      ],
      "execution_count": 0,
      "outputs": []
    },
    {
      "cell_type": "markdown",
      "metadata": {
        "id": "erVzv-aHM6Yl",
        "colab_type": "text"
      },
      "source": [
        "有複數、浮點數、整數，另外每個資料型別還可以由資料的儲存容量大小來區分，例如：numpy.int32就代表是容量為32bits的整數。我們可以在設置ndarray的時候事先強迫設成某資料型別。"
      ]
    },
    {
      "cell_type": "code",
      "metadata": {
        "id": "eJFYx9RhM6Ym",
        "colab_type": "code",
        "colab": {}
      },
      "source": [
        "t1 = np.array([1, 2, 3], dtype='int32')\n",
        "t1"
      ],
      "execution_count": 0,
      "outputs": []
    },
    {
      "cell_type": "code",
      "metadata": {
        "id": "N1YjkakCM6Yp",
        "colab_type": "code",
        "colab": {}
      },
      "source": [
        "t1.dtype"
      ],
      "execution_count": 0,
      "outputs": []
    },
    {
      "cell_type": "code",
      "metadata": {
        "id": "6k0ctksUM6Ys",
        "colab_type": "code",
        "colab": {}
      },
      "source": [
        "t2 = np.array([1, 2, 3], dtype='float64')\n",
        "t2"
      ],
      "execution_count": 0,
      "outputs": []
    },
    {
      "cell_type": "code",
      "metadata": {
        "id": "Kx-crBuKM6Yv",
        "colab_type": "code",
        "colab": {}
      },
      "source": [
        "t2.dtype"
      ],
      "execution_count": 0,
      "outputs": []
    },
    {
      "cell_type": "markdown",
      "metadata": {
        "id": "zz5dqqFnM6Y0",
        "colab_type": "text"
      },
      "source": [
        "### Numpy的矩陣運算\n",
        "\n",
        "有了ndarray就可以作矩陣的運算了，矩陣運算有兩種系統，一種是element-wise(元素方面) operation，一種是matrix operation。\n",
        "\n",
        "這樣講好像很抽象，我來解釋一下，element-wise operation就是每個元素獨立運算，例如，以下例子就是element-wise的相加。"
      ]
    },
    {
      "cell_type": "code",
      "metadata": {
        "id": "N-V8BeYaM6Y2",
        "colab_type": "code",
        "colab": {}
      },
      "source": [
        "A = np.array([[1, 2], [3, 4]], dtype='float64')\n",
        "B = np.array([[5, 0], [0, 0]], dtype='float64')\n",
        "A + B "
      ],
      "execution_count": 0,
      "outputs": []
    },
    {
      "cell_type": "markdown",
      "metadata": {
        "id": "Cu8z7tbeM6Y7",
        "colab_type": "text"
      },
      "source": [
        "A和B矩陣中同樣位置的元素相加，再放到新的矩陣中，這一種操作就叫做element-wise operation。\n",
        "\n",
        "在numpy中如果沒有特別指定，所有的運算都是這類的運算，我們來看一下減、乘和除。"
      ]
    },
    {
      "cell_type": "code",
      "metadata": {
        "id": "PFElGaQbM6Y8",
        "colab_type": "code",
        "colab": {}
      },
      "source": [
        "A - B"
      ],
      "execution_count": 0,
      "outputs": []
    },
    {
      "cell_type": "code",
      "metadata": {
        "id": "bIL38NhZM6Y_",
        "colab_type": "code",
        "colab": {}
      },
      "source": [
        "A * B"
      ],
      "execution_count": 0,
      "outputs": []
    },
    {
      "cell_type": "code",
      "metadata": {
        "id": "nOb9yAlSM6ZC",
        "colab_type": "code",
        "colab": {}
      },
      "source": [
        "B / A"
      ],
      "execution_count": 0,
      "outputs": []
    },
    {
      "cell_type": "markdown",
      "metadata": {
        "id": "pOW4fI97M6ZF",
        "colab_type": "text"
      },
      "source": [
        "那我如果想要作矩陣操作(matrix operation)呢？譬如說矩陣內積，"
      ]
    },
    {
      "cell_type": "code",
      "metadata": {
        "id": "ZHnJe2xsM6ZG",
        "colab_type": "code",
        "colab": {}
      },
      "source": [
        "np.dot(A, B)"
      ],
      "execution_count": 0,
      "outputs": []
    },
    {
      "cell_type": "markdown",
      "metadata": {
        "id": "a7QMchqsM6ZJ",
        "colab_type": "text"
      },
      "source": [
        "還有更多的矩陣操作，\n",
        "\n",
        "矩陣轉置"
      ]
    },
    {
      "cell_type": "code",
      "metadata": {
        "id": "i08LLPEZM6ZK",
        "colab_type": "code",
        "colab": {}
      },
      "source": [
        "A = np.array([[1, 2], [3, 4]], dtype='float64')\n",
        "A.T"
      ],
      "execution_count": 0,
      "outputs": []
    },
    {
      "cell_type": "markdown",
      "metadata": {
        "id": "x0kHTVWgM6ZN",
        "colab_type": "text"
      },
      "source": [
        "垂直方向合併"
      ]
    },
    {
      "cell_type": "code",
      "metadata": {
        "id": "-KRn4DyqM6ZO",
        "colab_type": "code",
        "colab": {}
      },
      "source": [
        "A = np.array([[1, 2], [3, 4]], dtype='float64')\n",
        "B = np.array([[5, 0], [0, 0]], dtype='float64')\n",
        "V = np.vstack((A, B))\n",
        "V"
      ],
      "execution_count": 0,
      "outputs": []
    },
    {
      "cell_type": "markdown",
      "metadata": {
        "id": "-M3fK-ssM6ZR",
        "colab_type": "text"
      },
      "source": [
        "水平方向合併"
      ]
    },
    {
      "cell_type": "code",
      "metadata": {
        "id": "6foc0c5fM6ZS",
        "colab_type": "code",
        "colab": {}
      },
      "source": [
        "H = np.hstack((A, B))\n",
        "H"
      ],
      "execution_count": 0,
      "outputs": []
    },
    {
      "cell_type": "markdown",
      "metadata": {
        "id": "CKNF_qEbM6ZU",
        "colab_type": "text"
      },
      "source": [
        "## Machine Learning tutorial\n",
        "\n",
        "* loss function\n",
        "    * MSE (Mean Square Error)\n",
        "    * Cross-Entropy Loss\n",
        "* optimization\n",
        "    * grandient descent\n",
        "    * back propagation\n",
        "* overfitting\n",
        "    * validation\n",
        "    * regularization"
      ]
    },
    {
      "cell_type": "markdown",
      "metadata": {
        "id": "j3xtTmQiM6ZV",
        "colab_type": "text"
      },
      "source": [
        "## 01_Simple_Logistic_Classification_on_MNIST"
      ]
    },
    {
      "cell_type": "code",
      "metadata": {
        "id": "8j8OulKvM6ZW",
        "colab_type": "code",
        "colab": {
          "base_uri": "https://localhost:8080/",
          "height": 175
        },
        "outputId": "c73c7bcd-c250-4f7a-9769-247d57a44c3e"
      },
      "source": [
        "fashion_mnist = keras.datasets.fashion_mnist\n",
        "\n",
        "(train_images, train_labels), (test_images, test_labels) = fashion_mnist.load_data()"
      ],
      "execution_count": 2,
      "outputs": [
        {
          "output_type": "stream",
          "text": [
            "Downloading data from https://storage.googleapis.com/tensorflow/tf-keras-datasets/train-labels-idx1-ubyte.gz\n",
            "32768/29515 [=================================] - 0s 0us/step\n",
            "Downloading data from https://storage.googleapis.com/tensorflow/tf-keras-datasets/train-images-idx3-ubyte.gz\n",
            "26427392/26421880 [==============================] - 0s 0us/step\n",
            "Downloading data from https://storage.googleapis.com/tensorflow/tf-keras-datasets/t10k-labels-idx1-ubyte.gz\n",
            "8192/5148 [===============================================] - 0s 0us/step\n",
            "Downloading data from https://storage.googleapis.com/tensorflow/tf-keras-datasets/t10k-images-idx3-ubyte.gz\n",
            "4423680/4422102 [==============================] - 0s 0us/step\n"
          ],
          "name": "stdout"
        }
      ]
    },
    {
      "cell_type": "markdown",
      "metadata": {
        "id": "LZOCnr75M6ZZ",
        "colab_type": "text"
      },
      "source": [
        "圖片是由28x28的NumPy arrays所構成，每個pixel值落在0到255之間。Labels則是有整數所構成，範圍從0到9，分別代表以下類別：\n",
        "\n",
        "<table>\n",
        "  <tr>\n",
        "    <th>Label</th>\n",
        "    <th>Class</th>\n",
        "  </tr>\n",
        "  <tr>\n",
        "    <td>0</td>\n",
        "    <td>T-shirt/top</td>\n",
        "  </tr>\n",
        "  <tr>\n",
        "    <td>1</td>\n",
        "    <td>Trouser</td>\n",
        "  </tr>\n",
        "    <tr>\n",
        "    <td>2</td>\n",
        "    <td>Pullover</td>\n",
        "  </tr>\n",
        "    <tr>\n",
        "    <td>3</td>\n",
        "    <td>Dress</td>\n",
        "  </tr>\n",
        "    <tr>\n",
        "    <td>4</td>\n",
        "    <td>Coat</td>\n",
        "  </tr>\n",
        "    <tr>\n",
        "    <td>5</td>\n",
        "    <td>Sandal</td>\n",
        "  </tr>\n",
        "    <tr>\n",
        "    <td>6</td>\n",
        "    <td>Shirt</td>\n",
        "  </tr>\n",
        "    <tr>\n",
        "    <td>7</td>\n",
        "    <td>Sneaker</td>\n",
        "  </tr>\n",
        "    <tr>\n",
        "    <td>8</td>\n",
        "    <td>Bag</td>\n",
        "  </tr>\n",
        "    <tr>\n",
        "    <td>9</td>\n",
        "    <td>Ankle boot</td>\n",
        "  </tr>\n",
        "</table>"
      ]
    },
    {
      "cell_type": "markdown",
      "metadata": {
        "id": "e7LajswCM6Za",
        "colab_type": "text"
      },
      "source": [
        "### Mission\n",
        "\n",
        "請問 `(train_images, train_labels), (test_images, test_labels)` 中的各個變數它們的 `shape` 各是？ 請問train部分的圖片有幾張？test部份的圖片有幾張？"
      ]
    },
    {
      "cell_type": "code",
      "metadata": {
        "id": "4YKPLenOM6Zb",
        "colab_type": "code",
        "colab": {
          "base_uri": "https://localhost:8080/",
          "height": 86
        },
        "outputId": "a162ce15-3439-4f91-c2a8-b68c1b5c9e36"
      },
      "source": [
        "print(train_images.shape)\n",
        "print(train_labels.shape)\n",
        "print(test_images.shape)\n",
        "print(test_labels.shape)"
      ],
      "execution_count": 9,
      "outputs": [
        {
          "output_type": "stream",
          "text": [
            "(60000, 28, 28)\n",
            "(60000,)\n",
            "(10000, 28, 28)\n",
            "(10000,)\n"
          ],
          "name": "stdout"
        }
      ]
    },
    {
      "cell_type": "markdown",
      "metadata": {
        "id": "g2g-TOxLM6Ze",
        "colab_type": "text"
      },
      "source": [
        "### Mission\n",
        "麻煩幫我從 `(train_images, train_labels)` 中隨便印出一張Sneaker和Coat的圖片，並且將相應的Label數字給顯示出來。"
      ]
    },
    {
      "cell_type": "code",
      "metadata": {
        "id": "J4jlepQzM6Zh",
        "colab_type": "code",
        "colab": {}
      },
      "source": [
        "def plot_fatten_img(ndarr):\n",
        "  img = ndarr.copy()\n",
        "  plt.imshow(img, cmap='gray')\n",
        "  plt.show"
      ],
      "execution_count": 0,
      "outputs": []
    },
    {
      "cell_type": "code",
      "metadata": {
        "id": "0vr7COzodByd",
        "colab_type": "code",
        "colab": {
          "base_uri": "https://localhost:8080/",
          "height": 269
        },
        "outputId": "32061cb3-7796-42ad-f095-462a367db552"
      },
      "source": [
        "plot_fatten_img(train_images[19, :, :])"
      ],
      "execution_count": 15,
      "outputs": [
        {
          "output_type": "display_data",
          "data": {
            "image/png": "[encoded data removed]",
            "text/plain": [
              "<Figure size 432x288 with 1 Axes>"
            ]
          },
          "metadata": {
            "tags": []
          }
        }
      ]
    },
    {
      "cell_type": "code",
      "metadata": {
        "id": "ee1BB1HbdVD6",
        "colab_type": "code",
        "colab": {
          "base_uri": "https://localhost:8080/",
          "height": 34
        },
        "outputId": "672f14d1-dfed-412f-a828-123d8030cd1e"
      },
      "source": [
        "train_labels[19]"
      ],
      "execution_count": 17,
      "outputs": [
        {
          "output_type": "execute_result",
          "data": {
            "text/plain": [
              "4"
            ]
          },
          "metadata": {
            "tags": []
          },
          "execution_count": 17
        }
      ]
    },
    {
      "cell_type": "code",
      "metadata": {
        "id": "MPZoLDxcda3d",
        "colab_type": "code",
        "colab": {
          "base_uri": "https://localhost:8080/",
          "height": 269
        },
        "outputId": "868f95c3-2b04-4654-83e0-0023bf27f90a"
      },
      "source": [
        "plot_fatten_img(train_images[19, :, :])"
      ],
      "execution_count": 19,
      "outputs": [
        {
          "output_type": "display_data",
          "data": {
            "image/png": "[encoded data removed]",
            "text/plain": [
              "<Figure size 432x288 with 1 Axes>"
            ]
          },
          "metadata": {
            "tags": []
          }
        }
      ]
    },
    {
      "cell_type": "markdown",
      "metadata": {
        "id": "gWO5CYckM6Zl",
        "colab_type": "text"
      },
      "source": [
        "做一些資料的前處理"
      ]
    },
    {
      "cell_type": "code",
      "metadata": {
        "id": "7zfQ1n5PM6Zr",
        "colab_type": "code",
        "colab": {
          "base_uri": "https://localhost:8080/",
          "height": 121
        },
        "outputId": "14481117-9202-46e3-ee6f-b2e539b8ca0b"
      },
      "source": [
        "X_train.shape, X_valid.shape, X_test.shape, y_train.shape, y_valid.shape, y_test.shape"
      ],
      "execution_count": 21,
      "outputs": [
        {
          "output_type": "execute_result",
          "data": {
            "text/plain": [
              "((48000, 784),\n",
              " (12000, 784),\n",
              " (10000, 784),\n",
              " (48000, 10),\n",
              " (12000, 10),\n",
              " (10000, 10))"
            ]
          },
          "metadata": {
            "tags": []
          },
          "execution_count": 21
        }
      ]
    },
    {
      "cell_type": "code",
      "metadata": {
        "id": "sWFVxY0WM6Zn",
        "colab_type": "code",
        "colab": {}
      },
      "source": [
        "from sklearn.model_selection import train_test_split\n",
        "from sklearn.preprocessing import OneHotEncoder\n",
        "\n",
        "train_images.shape = (-1, 784)\n",
        "X_test = test_images.reshape((-1, 784))\n",
        "\n",
        "enc = OneHotEncoder(handle_unknown='ignore')\n",
        "enc.fit([[0, ], [1, ], [2, ], [3, ], [4, ], [5, ], [6, ], [7, ], [8, ], [9, ]])\n",
        "train_labels = enc.transform(train_labels.reshape((-1, 1))).toarray()\n",
        "y_test = enc.transform(test_labels.reshape((-1, 1))).toarray()\n",
        "\n",
        "X_train, X_valid, y_train, y_valid = train_test_split(train_images, train_labels, test_size=0.2)"
      ],
      "execution_count": 0,
      "outputs": []
    },
    {
      "cell_type": "code",
      "metadata": {
        "id": "WZL8u0l6M6Z0",
        "colab_type": "code",
        "colab": {
          "base_uri": "https://localhost:8080/",
          "height": 34
        },
        "outputId": "52a2874f-e228-4654-d307-c3ff28154d98"
      },
      "source": [
        "y_train[6]"
      ],
      "execution_count": 22,
      "outputs": [
        {
          "output_type": "execute_result",
          "data": {
            "text/plain": [
              "array([0., 0., 0., 0., 0., 0., 0., 0., 0., 1.])"
            ]
          },
          "metadata": {
            "tags": []
          },
          "execution_count": 22
        }
      ]
    },
    {
      "cell_type": "markdown",
      "metadata": {
        "id": "MlPt_XMsM6Z4",
        "colab_type": "text"
      },
      "source": [
        "### Mission\n",
        "\n",
        "麻煩幫我使用 `(X_train, y_train)` 去訓練一個 Simple Logistic Classification，並且使用 `(X_valid, y_valid)` 去作validation，最後用 `(test_images, test_labels)` 來test出它的精確度。"
      ]
    },
    {
      "cell_type": "code",
      "metadata": {
        "id": "zOgguApiM6Z5",
        "colab_type": "code",
        "colab": {}
      },
      "source": [
        "import random\n",
        "class SimpleLogisticClassification:\n",
        "\n",
        "    def __init__(self, n_features, n_labels, learning_rate=0.5):\n",
        "        self.n_features = n_features\n",
        "        self.n_labels = n_labels\n",
        "\n",
        "        self.weights = None\n",
        "        self.biases = None\n",
        "\n",
        "        self.graph = tf.Graph()  # initialize new graph\n",
        "        self.build(learning_rate)  # building graph\n",
        "        self.sess = tf.Session(graph=self.graph)  # create session by the graph\n",
        "\n",
        "    def build(self, learning_rate):\n",
        "        # Building Graph\n",
        "        with self.graph.as_default():\n",
        "            ### Input\n",
        "            self.train_features = tf.placeholder(tf.float32, shape=(None, self.n_features))\n",
        "            self.train_labels = tf.placeholder(tf.int32, shape=(None, self.n_labels))\n",
        "\n",
        "            ### Optimalization\n",
        "            # build neurel network structure and get their predictions and loss\n",
        "            self.y_, self.loss = self.structure(features=self.train_features,\n",
        "                                                labels=self.train_labels, train=True)\n",
        "            # define training operation\n",
        "            self.train_op = tf.train.AdamOptimizer(learning_rate).minimize(self.loss)\n",
        "\n",
        "            ### Prediction\n",
        "            self.new_features = tf.placeholder(tf.float32, shape=(None, self.n_features))\n",
        "            self.new_labels = tf.placeholder(tf.int32, shape=(None, self.n_labels))\n",
        "            self.new_y_, self.new_loss = self.structure(features=self.new_features,\n",
        "                                                        labels=self.new_labels)\n",
        "\n",
        "            ### Initialization\n",
        "            self.init_op = tf.global_variables_initializer()\n",
        "\n",
        "    def structure(self, features, labels, train=False):\n",
        "        n_hidden = 800\n",
        "        # build neurel network structure and return their predictions and loss\n",
        "        ### Variable\n",
        "        if (not self.weights) or (not self.biases):\n",
        "            self.weights = {\n",
        "                'fc1': tf.Variable(tf.truncated_normal(shape=(self.n_features, 1000))),\n",
        "                'fc2': tf.Variable(tf.truncated_normal(shape=(1000, 400))),\n",
        "                'fc3': tf.Variable(tf.truncated_normal(shape=(400, self.n_labels))),\n",
        "            }\n",
        "            self.biases = {\n",
        "                'fc1': tf.Variable(tf.zeros(shape=(1000))),\n",
        "                'fc2': tf.Variable(tf.zeros(shape=(400))),\n",
        "                'fc3': tf.Variable(tf.zeros(shape=(self.n_labels))),\n",
        "            }\n",
        "\n",
        "        ### Structure\n",
        "        # one fully connected layer\n",
        "        #logits = self.get_dense_layer(features, self.weights['fc1'], self.biases['fc1'])\n",
        "\n",
        "        # layer 1\n",
        "        dropout_ratio=0.1\n",
        "        fc1 = self.get_dense_layer(features, self.weights['fc1'], self.biases['fc1'], activation = tf.nn.relu)\n",
        "        fc2 = self.get_dense_layer(fc1, self.weights['fc2'], self.biases['fc2'], activation = tf.nn.relu)\n",
        "        if train:\n",
        "            fc2 = tf.nn.dropout(fc2, keep_prob=1-dropout_ratio)\n",
        "        \n",
        "        # layer 2\n",
        "        logits = self.get_dense_layer(fc2, self.weights['fc3'], self.biases['fc3'])\n",
        "        \n",
        "        # predictions\n",
        "        y_ = tf.nn.softmax(logits)\n",
        "\n",
        "        # loss: softmax cross entropy\n",
        "        loss = tf.reduce_mean(\n",
        "                 tf.nn.softmax_cross_entropy_with_logits(labels=labels, logits=logits))\n",
        "\n",
        "        return (y_, loss)\n",
        "\n",
        "    def get_dense_layer(self, input_layer, weight, bias, activation=None):\n",
        "        # fully connected layer\n",
        "        x = tf.add(tf.matmul(input_layer, weight), bias)\n",
        "        if activation:\n",
        "            x = activation(x)\n",
        "        return x\n",
        "    \n",
        "    def fit(self, X, y, epochs=10, validation_data=None, test_data=None):\n",
        "        X = self._check_array(X)\n",
        "        y = self._check_array(y)\n",
        "\n",
        "        self.sess.run(self.init_op)\n",
        "        for epoch in range(epochs):\n",
        "            print('Epoch %2d/%2d: ' % (epoch+1, epochs))\n",
        "\n",
        "            # fully gradient descent\n",
        "            #feed_dict = {self.train_features: X, self.train_labels: y}\n",
        "            #self.sess.run(self.train_op, feed_dict=feed_dict)\n",
        "\n",
        "            # mini-batch gradient descent\n",
        "            N = X.shape[0]\n",
        "            index = [i for i in range(N)]\n",
        "            random.shuffle(index)\n",
        "            batch_size = 256\n",
        "            while len(index) > 0:\n",
        "                index_size = len(index)\n",
        "                batch_index = [index.pop() for _ in range(min(batch_size, index_size))]\n",
        "\n",
        "                feed_dict = {\n",
        "                    self.train_features: X[batch_index, :],\n",
        "                    self.train_labels: y[batch_index],\n",
        "                }\n",
        "                _, loss = self.sess.run([self.train_op, self.loss], feed_dict=feed_dict)\n",
        "\n",
        "                print('[%d/%d] loss = %9.4f     ' % (N-len(index), N, loss), end='\\r')\n",
        "\n",
        "            \n",
        "            # evaluate at the end of this epoch\n",
        "            y_ = self.predict(X)\n",
        "            train_loss = self.evaluate(X, y)\n",
        "            train_acc = self.accuracy(y_, y)\n",
        "            msg = ' loss = %8.4f, acc = %3.2f%%' % (train_loss, train_acc*100)\n",
        "\n",
        "            if validation_data:\n",
        "                val_loss = self.evaluate(validation_data[0], validation_data[1])\n",
        "                val_acc = self.accuracy(self.predict(validation_data[0]), validation_data[1])\n",
        "                msg += ', val_loss = %8.4f, val_acc = %3.2f%%' % (val_loss, val_acc*100)\n",
        "\n",
        "            print(msg)\n",
        "\n",
        "        if test_data:\n",
        "            test_acc = self.accuracy(self.predict(test_data[0]), test_data[1])\n",
        "            print('test_acc = %3.2f%%' % (test_acc*100))\n",
        "\n",
        "    def accuracy(self, predictions, labels):\n",
        "        return (np.sum(np.argmax(predictions, 1) == np.argmax(labels, 1))/predictions.shape[0])\n",
        "\n",
        "    def predict(self, X):\n",
        "        X = self._check_array(X)\n",
        "        return self.sess.run(self.new_y_, feed_dict={self.new_features: X})\n",
        "\n",
        "    def evaluate(self, X, y):\n",
        "        X = self._check_array(X)\n",
        "        y = self._check_array(y)\n",
        "        return self.sess.run(self.new_loss, feed_dict={self.new_features: X, self.new_labels: y})\n",
        "\n",
        "    def _check_array(self, ndarray):\n",
        "        ndarray = np.array(ndarray)\n",
        "        if len(ndarray.shape) == 1:\n",
        "            ndarray = np.reshape(ndarray, (1, ndarray.shape[0]))\n",
        "        return ndarray"
      ],
      "execution_count": 0,
      "outputs": []
    },
    {
      "cell_type": "code",
      "metadata": {
        "id": "5mT2q8IRCJTd",
        "colab_type": "code",
        "colab": {
          "base_uri": "https://localhost:8080/",
          "height": 865
        },
        "outputId": "48d2caa3-8014-4ef7-b6d2-ad343173ff1c"
      },
      "source": [
        "model = SimpleLogisticClassification(n_features=28*28, n_labels=10, learning_rate= 0.005)\n",
        "model.fit(\n",
        "    X=X_train,\n",
        "    y=y_train,\n",
        "    epochs=50,\n",
        "    validation_data=(X_valid, y_valid),\n",
        "    test_data=(X_test, y_test),\n",
        ")"
      ],
      "execution_count": 66,
      "outputs": [
        {
          "output_type": "stream",
          "text": [
            "Epoch  1/50: \n",
            " loss = 6541.0298, acc = 74.67%, val_loss = 7478.3042, val_acc = 74.40%\n",
            "Epoch  2/50: \n",
            " loss = 925.0847, acc = 59.48%, val_loss = 1463.6797, val_acc = 58.43%\n",
            "Epoch  3/50: \n",
            " loss = 293.5773, acc = 48.35%, val_loss = 618.6622, val_acc = 47.17%\n",
            "Epoch  4/50: \n",
            " loss = 132.6609, acc = 41.85%, val_loss = 420.8068, val_acc = 40.83%\n",
            "Epoch  5/50: \n",
            " loss =  64.0240, acc = 42.10%, val_loss = 293.1291, val_acc = 41.27%\n",
            "Epoch  6/50: \n",
            " loss =  37.5247, acc = 37.45%, val_loss = 256.2729, val_acc = 36.43%\n",
            "Epoch  7/50: \n",
            " loss =  22.8650, acc = 35.48%, val_loss = 209.2196, val_acc = 34.52%\n",
            "Epoch  8/50: \n",
            " loss =  15.1411, acc = 33.97%, val_loss = 182.6013, val_acc = 32.98%\n",
            "Epoch  9/50: \n",
            " loss =  10.6120, acc = 35.77%, val_loss = 175.3090, val_acc = 35.15%\n",
            "Epoch 10/50: \n",
            " loss =  10.6990, acc = 31.33%, val_loss = 165.7711, val_acc = 30.74%\n",
            "Epoch 11/50: \n",
            " loss =   7.9490, acc = 32.09%, val_loss = 145.2411, val_acc = 31.08%\n",
            "Epoch 12/50: \n",
            " loss =   9.8811, acc = 33.57%, val_loss = 138.7202, val_acc = 32.77%\n",
            "Epoch 13/50: \n",
            " loss =  10.2649, acc = 30.21%, val_loss = 120.1041, val_acc = 29.23%\n",
            "Epoch 14/50: \n",
            " loss =   7.7994, acc = 30.78%, val_loss = 119.0018, val_acc = 30.12%\n",
            "Epoch 15/50: \n"
          ],
          "name": "stdout"
        },
        {
          "output_type": "error",
          "ename": "KeyboardInterrupt",
          "evalue": "ignored",
          "traceback": [
            "\u001b[0;31m---------------------------------------------------------------------------\u001b[0m",
            "\u001b[0;31mKeyboardInterrupt\u001b[0m                         Traceback (most recent call last)",
            "\u001b[0;32m<ipython-input-66-bfc49493fd5e>\u001b[0m in \u001b[0;36m<module>\u001b[0;34m()\u001b[0m\n\u001b[1;32m      5\u001b[0m     \u001b[0mepochs\u001b[0m\u001b[0;34m=\u001b[0m\u001b[0;36m50\u001b[0m\u001b[0;34m,\u001b[0m\u001b[0;34m\u001b[0m\u001b[0;34m\u001b[0m\u001b[0m\n\u001b[1;32m      6\u001b[0m     \u001b[0mvalidation_data\u001b[0m\u001b[0;34m=\u001b[0m\u001b[0;34m(\u001b[0m\u001b[0mX_valid\u001b[0m\u001b[0;34m,\u001b[0m \u001b[0my_valid\u001b[0m\u001b[0;34m)\u001b[0m\u001b[0;34m,\u001b[0m\u001b[0;34m\u001b[0m\u001b[0;34m\u001b[0m\u001b[0m\n\u001b[0;32m----> 7\u001b[0;31m     \u001b[0mtest_data\u001b[0m\u001b[0;34m=\u001b[0m\u001b[0;34m(\u001b[0m\u001b[0mX_test\u001b[0m\u001b[0;34m,\u001b[0m \u001b[0my_test\u001b[0m\u001b[0;34m)\u001b[0m\u001b[0;34m,\u001b[0m\u001b[0;34m\u001b[0m\u001b[0;34m\u001b[0m\u001b[0m\n\u001b[0m\u001b[1;32m      8\u001b[0m )\n",
            "\u001b[0;32m<ipython-input-65-feeab6c3c4f4>\u001b[0m in \u001b[0;36mfit\u001b[0;34m(self, X, y, epochs, validation_data, test_data)\u001b[0m\n\u001b[1;32m    114\u001b[0m             \u001b[0;31m# evaluate at the end of this epoch\u001b[0m\u001b[0;34m\u001b[0m\u001b[0;34m\u001b[0m\u001b[0;34m\u001b[0m\u001b[0m\n\u001b[1;32m    115\u001b[0m             \u001b[0my_\u001b[0m \u001b[0;34m=\u001b[0m \u001b[0mself\u001b[0m\u001b[0;34m.\u001b[0m\u001b[0mpredict\u001b[0m\u001b[0;34m(\u001b[0m\u001b[0mX\u001b[0m\u001b[0;34m)\u001b[0m\u001b[0;34m\u001b[0m\u001b[0;34m\u001b[0m\u001b[0m\n\u001b[0;32m--> 116\u001b[0;31m             \u001b[0mtrain_loss\u001b[0m \u001b[0;34m=\u001b[0m \u001b[0mself\u001b[0m\u001b[0;34m.\u001b[0m\u001b[0mevaluate\u001b[0m\u001b[0;34m(\u001b[0m\u001b[0mX\u001b[0m\u001b[0;34m,\u001b[0m \u001b[0my\u001b[0m\u001b[0;34m)\u001b[0m\u001b[0;34m\u001b[0m\u001b[0;34m\u001b[0m\u001b[0m\n\u001b[0m\u001b[1;32m    117\u001b[0m             \u001b[0mtrain_acc\u001b[0m \u001b[0;34m=\u001b[0m \u001b[0mself\u001b[0m\u001b[0;34m.\u001b[0m\u001b[0maccuracy\u001b[0m\u001b[0;34m(\u001b[0m\u001b[0my_\u001b[0m\u001b[0;34m,\u001b[0m \u001b[0my\u001b[0m\u001b[0;34m)\u001b[0m\u001b[0;34m\u001b[0m\u001b[0;34m\u001b[0m\u001b[0m\n\u001b[1;32m    118\u001b[0m             \u001b[0mmsg\u001b[0m \u001b[0;34m=\u001b[0m \u001b[0;34m' loss = %8.4f, acc = %3.2f%%'\u001b[0m \u001b[0;34m%\u001b[0m \u001b[0;34m(\u001b[0m\u001b[0mtrain_loss\u001b[0m\u001b[0;34m,\u001b[0m \u001b[0mtrain_acc\u001b[0m\u001b[0;34m*\u001b[0m\u001b[0;36m100\u001b[0m\u001b[0;34m)\u001b[0m\u001b[0;34m\u001b[0m\u001b[0;34m\u001b[0m\u001b[0m\n",
            "\u001b[0;32m<ipython-input-65-feeab6c3c4f4>\u001b[0m in \u001b[0;36mevaluate\u001b[0;34m(self, X, y)\u001b[0m\n\u001b[1;32m    139\u001b[0m         \u001b[0mX\u001b[0m \u001b[0;34m=\u001b[0m \u001b[0mself\u001b[0m\u001b[0;34m.\u001b[0m\u001b[0m_check_array\u001b[0m\u001b[0;34m(\u001b[0m\u001b[0mX\u001b[0m\u001b[0;34m)\u001b[0m\u001b[0;34m\u001b[0m\u001b[0;34m\u001b[0m\u001b[0m\n\u001b[1;32m    140\u001b[0m         \u001b[0my\u001b[0m \u001b[0;34m=\u001b[0m \u001b[0mself\u001b[0m\u001b[0;34m.\u001b[0m\u001b[0m_check_array\u001b[0m\u001b[0;34m(\u001b[0m\u001b[0my\u001b[0m\u001b[0;34m)\u001b[0m\u001b[0;34m\u001b[0m\u001b[0;34m\u001b[0m\u001b[0m\n\u001b[0;32m--> 141\u001b[0;31m         \u001b[0;32mreturn\u001b[0m \u001b[0mself\u001b[0m\u001b[0;34m.\u001b[0m\u001b[0msess\u001b[0m\u001b[0;34m.\u001b[0m\u001b[0mrun\u001b[0m\u001b[0;34m(\u001b[0m\u001b[0mself\u001b[0m\u001b[0;34m.\u001b[0m\u001b[0mnew_loss\u001b[0m\u001b[0;34m,\u001b[0m \u001b[0mfeed_dict\u001b[0m\u001b[0;34m=\u001b[0m\u001b[0;34m{\u001b[0m\u001b[0mself\u001b[0m\u001b[0;34m.\u001b[0m\u001b[0mnew_features\u001b[0m\u001b[0;34m:\u001b[0m \u001b[0mX\u001b[0m\u001b[0;34m,\u001b[0m \u001b[0mself\u001b[0m\u001b[0;34m.\u001b[0m\u001b[0mnew_labels\u001b[0m\u001b[0;34m:\u001b[0m \u001b[0my\u001b[0m\u001b[0;34m}\u001b[0m\u001b[0;34m)\u001b[0m\u001b[0;34m\u001b[0m\u001b[0;34m\u001b[0m\u001b[0m\n\u001b[0m\u001b[1;32m    142\u001b[0m \u001b[0;34m\u001b[0m\u001b[0m\n\u001b[1;32m    143\u001b[0m     \u001b[0;32mdef\u001b[0m \u001b[0m_check_array\u001b[0m\u001b[0;34m(\u001b[0m\u001b[0mself\u001b[0m\u001b[0;34m,\u001b[0m \u001b[0mndarray\u001b[0m\u001b[0;34m)\u001b[0m\u001b[0;34m:\u001b[0m\u001b[0;34m\u001b[0m\u001b[0;34m\u001b[0m\u001b[0m\n",
            "\u001b[0;32m/usr/local/lib/python3.6/dist-packages/tensorflow/python/client/session.py\u001b[0m in \u001b[0;36mrun\u001b[0;34m(self, fetches, feed_dict, options, run_metadata)\u001b[0m\n\u001b[1;32m    948\u001b[0m     \u001b[0;32mtry\u001b[0m\u001b[0;34m:\u001b[0m\u001b[0;34m\u001b[0m\u001b[0;34m\u001b[0m\u001b[0m\n\u001b[1;32m    949\u001b[0m       result = self._run(None, fetches, feed_dict, options_ptr,\n\u001b[0;32m--> 950\u001b[0;31m                          run_metadata_ptr)\n\u001b[0m\u001b[1;32m    951\u001b[0m       \u001b[0;32mif\u001b[0m \u001b[0mrun_metadata\u001b[0m\u001b[0;34m:\u001b[0m\u001b[0;34m\u001b[0m\u001b[0;34m\u001b[0m\u001b[0m\n\u001b[1;32m    952\u001b[0m         \u001b[0mproto_data\u001b[0m \u001b[0;34m=\u001b[0m \u001b[0mtf_session\u001b[0m\u001b[0;34m.\u001b[0m\u001b[0mTF_GetBuffer\u001b[0m\u001b[0;34m(\u001b[0m\u001b[0mrun_metadata_ptr\u001b[0m\u001b[0;34m)\u001b[0m\u001b[0;34m\u001b[0m\u001b[0;34m\u001b[0m\u001b[0m\n",
            "\u001b[0;32m/usr/local/lib/python3.6/dist-packages/tensorflow/python/client/session.py\u001b[0m in \u001b[0;36m_run\u001b[0;34m(self, handle, fetches, feed_dict, options, run_metadata)\u001b[0m\n\u001b[1;32m   1140\u001b[0m             \u001b[0mfeed_handles\u001b[0m\u001b[0;34m[\u001b[0m\u001b[0msubfeed_t\u001b[0m\u001b[0;34m]\u001b[0m \u001b[0;34m=\u001b[0m \u001b[0msubfeed_val\u001b[0m\u001b[0;34m\u001b[0m\u001b[0;34m\u001b[0m\u001b[0m\n\u001b[1;32m   1141\u001b[0m           \u001b[0;32melse\u001b[0m\u001b[0;34m:\u001b[0m\u001b[0;34m\u001b[0m\u001b[0;34m\u001b[0m\u001b[0m\n\u001b[0;32m-> 1142\u001b[0;31m             \u001b[0mnp_val\u001b[0m \u001b[0;34m=\u001b[0m \u001b[0mnp\u001b[0m\u001b[0;34m.\u001b[0m\u001b[0masarray\u001b[0m\u001b[0;34m(\u001b[0m\u001b[0msubfeed_val\u001b[0m\u001b[0;34m,\u001b[0m \u001b[0mdtype\u001b[0m\u001b[0;34m=\u001b[0m\u001b[0msubfeed_dtype\u001b[0m\u001b[0;34m)\u001b[0m\u001b[0;34m\u001b[0m\u001b[0;34m\u001b[0m\u001b[0m\n\u001b[0m\u001b[1;32m   1143\u001b[0m \u001b[0;34m\u001b[0m\u001b[0m\n\u001b[1;32m   1144\u001b[0m           if (not is_tensor_handle_feed and\n",
            "\u001b[0;32m/usr/local/lib/python3.6/dist-packages/numpy/core/numeric.py\u001b[0m in \u001b[0;36masarray\u001b[0;34m(a, dtype, order)\u001b[0m\n\u001b[1;32m    536\u001b[0m \u001b[0;34m\u001b[0m\u001b[0m\n\u001b[1;32m    537\u001b[0m     \"\"\"\n\u001b[0;32m--> 538\u001b[0;31m     \u001b[0;32mreturn\u001b[0m \u001b[0marray\u001b[0m\u001b[0;34m(\u001b[0m\u001b[0ma\u001b[0m\u001b[0;34m,\u001b[0m \u001b[0mdtype\u001b[0m\u001b[0;34m,\u001b[0m \u001b[0mcopy\u001b[0m\u001b[0;34m=\u001b[0m\u001b[0;32mFalse\u001b[0m\u001b[0;34m,\u001b[0m \u001b[0morder\u001b[0m\u001b[0;34m=\u001b[0m\u001b[0morder\u001b[0m\u001b[0;34m)\u001b[0m\u001b[0;34m\u001b[0m\u001b[0;34m\u001b[0m\u001b[0m\n\u001b[0m\u001b[1;32m    539\u001b[0m \u001b[0;34m\u001b[0m\u001b[0m\n\u001b[1;32m    540\u001b[0m \u001b[0;34m\u001b[0m\u001b[0m\n",
            "\u001b[0;31mKeyboardInterrupt\u001b[0m: "
          ]
        }
      ]
    },
    {
      "cell_type": "markdown",
      "metadata": {
        "id": "AVn24N9EM6Z9",
        "colab_type": "text"
      },
      "source": [
        "## Tensorflow補充資訊\n",
        "\n",
        "loss\n",
        "https://www.tensorflow.org/api_docs/python/tf/losses\n",
        "\n",
        "optimizer\n",
        "https://www.tensorflow.org/api_docs/python/tf/train\n",
        "* search XXXOptimizer\n",
        "\n",
        "dtype\n",
        "https://www.tensorflow.org/api_docs/python/tf/dtypes/DType\n",
        "\n",
        "math\n",
        "https://www.tensorflow.org/api_docs/python/tf/math\n",
        "\n",
        "nn\n",
        "https://www.tensorflow.org/api_docs/python/tf/nn\n",
        "\n",
        "layers\n",
        "https://www.tensorflow.org/api_docs/python/tf/layers"
      ]
    }
  ]
}